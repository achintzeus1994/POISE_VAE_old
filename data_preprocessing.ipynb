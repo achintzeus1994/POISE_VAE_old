{
 "cells": [
  {
   "cell_type": "code",
   "execution_count": 2,
   "id": "handled-spring",
   "metadata": {},
   "outputs": [],
   "source": [
    "import torch\n",
    "import scipy.io as sio\n",
    "import random\n",
    "import numpy as np"
   ]
  },
  {
   "cell_type": "code",
   "execution_count": 4,
   "id": "arctic-washer",
   "metadata": {},
   "outputs": [],
   "source": [
    "class JointDataset(torch.utils.data.Dataset):\n",
    "    def __init__(self, mnist_pt_path, svhn_mat_path):\n",
    "\n",
    "        self.mnist_pt_path = mnist_pt_path\n",
    "        self.svhn_mat_path = svhn_mat_path\n",
    "            \n",
    "        # Load the pt for MNIST and mat for SVHN \n",
    "        self.mnist_data, self.mnist_targets = torch.load(self.mnist_pt_path)\n",
    "        \n",
    "        # Reading the SVHN data\n",
    "        svhn_mat_info = sio.loadmat(self.svhn_mat_path)\n",
    "\n",
    "        self.svhn_data = svhn_mat_info['X']\n",
    "        self.svhn_targets = svhn_mat_info['y'].astype(np.int64).squeeze()\n",
    "\n",
    "        \n",
    "        # the svhn dataset assigns the class label \"10\" to the digit 0\n",
    "        # this makes it inconsistent with several loss functions\n",
    "        # which expect the class labels to be in the range [0, C-1]\n",
    "        np.place(self.svhn_targets, self.svhn_targets == 10, 0)\n",
    "        self.svhn_data = np.transpose(self.svhn_data, (3, 2, 0, 1))\n",
    "        \n",
    "        # Now we have the svhn data and the SVHN Labels, for each index get the classes\n",
    "        self.svhn_target_idx_mapping = self.process_svhn_labels()\n",
    "        \n",
    "    def process_svhn_labels(self):\n",
    "        numbers_dict = {0: [], 1: [], 2: [], 3:[], 4:[], 5:[], 6:[], 7: [], 8:[], 9:[]}\n",
    "        for i in range(len(self.svhn_targets)):\n",
    "            svhn_target = self.svhn_targets[i]\n",
    "            numbers_dict[svhn_target].append(i)\n",
    "        return numbers_dict\n",
    "        \n",
    "    def __len__(self):\n",
    "        return len(self.mnist_data)\n",
    "        \n",
    "    def __getitem__(self, index: int):\n",
    "        \"\"\"\n",
    "        Args:\n",
    "            index (int): Index\n",
    "        \"\"\"\n",
    "        mnist_img, mnist_target = self.mnist_data[index], int(self.mnist_targets[index])\n",
    "        indices_list = self.svhn_target_idx_mapping[mnist_target]\n",
    "        \n",
    "        # Randomly pick an index from the indices list\n",
    "        idx = random.choice(indices_list)\n",
    "        svhn_img = self.svhn_data[idx]\n",
    "        svhn_target = self.svhn_targets[idx]\n",
    "        # What are the indices in SVHN that \n",
    "        return mnist_img, svhn_img, mnist_target, svhn_target\n"
   ]
  },
  {
   "cell_type": "code",
   "execution_count": null,
   "id": "presidential-divide",
   "metadata": {},
   "outputs": [],
   "source": []
  }
 ],
 "metadata": {
  "kernelspec": {
   "display_name": "achint-env2",
   "language": "python",
   "name": "achint-env2"
  },
  "language_info": {
   "codemirror_mode": {
    "name": "ipython",
    "version": 3
   },
   "file_extension": ".py",
   "mimetype": "text/x-python",
   "name": "python",
   "nbconvert_exporter": "python",
   "pygments_lexer": "ipython3",
   "version": "3.8.5"
  }
 },
 "nbformat": 4,
 "nbformat_minor": 5
}
