{
 "cells": [
  {
   "cell_type": "code",
   "execution_count": 1,
   "id": "existing-remark",
   "metadata": {},
   "outputs": [],
   "source": [
    "import torch\n",
    "import scipy.io as sio\n",
    "import random\n",
    "import numpy as np"
   ]
  },
  {
   "cell_type": "code",
   "execution_count": 2,
   "id": "rough-headset",
   "metadata": {},
   "outputs": [],
   "source": [
    "class JointDataset(torch.utils.data.Dataset):\n",
    "    def __init__(self, mnist_pt_path_1, mnist_pt_path_2):\n",
    "\n",
    "        self.mnist_pt_path_1 = mnist_pt_path_1\n",
    "        self.mnist_pt_path_2 = mnist_pt_path_2\n",
    "            \n",
    "        # Load the pt for MNIST \n",
    "        self.mnist_data_1, self.mnist_targets_1 = torch.load(self.mnist_pt_path_1)\n",
    "        \n",
    "        # Load the pt for MNIST \n",
    "\n",
    "        self.mnist_data_2, self.mnist_targets_2 = torch.load(self.mnist_pt_path_2)\n",
    "\n",
    "        \n",
    "        \n",
    "    def __len__(self):\n",
    "        return len(self.mnist_data_1)\n",
    "        \n",
    "    def __getitem__(self, index: int):\n",
    "        \"\"\"\n",
    "        Args:\n",
    "            index (int): Index\n",
    "        \"\"\"\n",
    "        mnist_img_1, mnist_target_1 = self.mnist_data_1[index], int(self.mnist_targets_1[index])\n",
    "        \n",
    "        # Randomly pick an index from the indices list\n",
    "        mnist_img_2, mnist_target_2 = self.mnist_data_2[index], int(self.mnist_targets_2[index])\n",
    "        \n",
    "        return mnist_img_1, mnist_img_2, mnist_target_1, mnist_target_2\n"
   ]
  },
  {
   "cell_type": "code",
   "execution_count": null,
   "id": "white-gasoline",
   "metadata": {},
   "outputs": [],
   "source": []
  }
 ],
 "metadata": {
  "kernelspec": {
   "display_name": "achint-env2",
   "language": "python",
   "name": "achint-env2"
  },
  "language_info": {
   "codemirror_mode": {
    "name": "ipython",
    "version": 3
   },
   "file_extension": ".py",
   "mimetype": "text/x-python",
   "name": "python",
   "nbconvert_exporter": "python",
   "pygments_lexer": "ipython3",
   "version": "3.8.10"
  }
 },
 "nbformat": 4,
 "nbformat_minor": 5
}
