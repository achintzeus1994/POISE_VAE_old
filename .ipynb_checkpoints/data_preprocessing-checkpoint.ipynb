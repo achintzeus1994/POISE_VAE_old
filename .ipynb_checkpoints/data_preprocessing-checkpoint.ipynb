{
 "cells": [
  {
   "cell_type": "code",
   "execution_count": 1,
   "id": "wound-silver",
   "metadata": {},
   "outputs": [],
   "source": [
    "import torch\n",
    "import scipy.io as sio\n",
    "import random\n",
    "import numpy as np"
   ]
  },
  {
   "cell_type": "code",
   "execution_count": 2,
   "id": "gross-leader",
   "metadata": {},
   "outputs": [],
   "source": [
    "class JointDataset(torch.utils.data.Dataset):\n",
    "    def __init__(self, mnist_pt_path, svhn_pt_path):\n",
    "\n",
    "        self.mnist_pt_path = mnist_pt_path\n",
    "        self.svhn_pt_path = svhn_pt_path\n",
    "            \n",
    "        # Load the pt for MNIST and mat for SVHN \n",
    "        self.mnist_data, self.mnist_targets = torch.load(self.mnist_pt_path)\n",
    "        \n",
    "        # Reading the SVHN data\n",
    "\n",
    "        self.svhn_data ,self.svhn_targets = torch.load(self.svhn_pt_path)\n",
    "\n",
    "        \n",
    "        \n",
    "    def __len__(self):\n",
    "        return len(self.mnist_data)\n",
    "        \n",
    "    def __getitem__(self, index: int):\n",
    "        \"\"\"\n",
    "        Args:\n",
    "            index (int): Index\n",
    "        \"\"\"\n",
    "        mnist_img, mnist_target = self.mnist_data[index], int(self.mnist_targets[index])\n",
    "        \n",
    "        # Randomly pick an index from the indices list\n",
    "        svhn_img ,svhn_target = self.svhn_data[index], int(self.svhn_targets[index])\n",
    "        # What are the indices in SVHN that \n",
    "        return mnist_img, svhn_img, mnist_target, svhn_target\n"
   ]
  },
  {
   "cell_type": "code",
   "execution_count": null,
   "id": "closed-master",
   "metadata": {},
   "outputs": [],
   "source": []
  }
 ],
 "metadata": {
  "kernelspec": {
   "display_name": "achint-env2",
   "language": "python",
   "name": "achint-env2"
  },
  "language_info": {
   "codemirror_mode": {
    "name": "ipython",
    "version": 3
   },
   "file_extension": ".py",
   "mimetype": "text/x-python",
   "name": "python",
   "nbconvert_exporter": "python",
   "pygments_lexer": "ipython3",
   "version": "3.8.5"
  }
 },
 "nbformat": 4,
 "nbformat_minor": 5
}
