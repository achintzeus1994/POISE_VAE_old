{
 "cells": [
  {
   "cell_type": "code",
   "execution_count": 2,
   "id": "usual-fashion",
   "metadata": {},
   "outputs": [],
   "source": [
    "import torch\n",
    "from torchviz import make_dot"
   ]
  },
  {
   "cell_type": "markdown",
   "id": "encouraging-vancouver",
   "metadata": {},
   "source": [
    "The KL divergence is given by,\n",
    "<span class=\"math display\">\n",
    "    \\begin{aligned}\n",
    "    D_{KL}(q(\\mathbf{z, z'|x, x'}) \\Vert p(\\mathbf{z, z'})) &= \\mathrm{log}\\left[\\frac{\\tilde{q}_{\\phi}(z^{(i)},z'^{(i)}|x,x')}{\\tilde{p}_{\\theta}(z^{(i)},z'^{(i)})}\\right]-\\langle \\mathbf{sg}( \\mathbb{E}_q[T]),\\lambda\\rangle-\\langle \\mathbf{sg}( \\mathbb{E}_q[T']),\\lambda'\\rangle+(\\mathbb{E}_p-\\mathbb{E}_q)\\langle \\mathbf{sg}[T\\otimes T'],G\\rangle\n",
    "    \\end{aligned}\n",
    "</span>\n",
    "\n",
    "<span class=\"math display\">\n",
    "    \\begin{aligned}\n",
    "    T_{prior}&=[z_{prior},z^2_{prior}]\\\\\n",
    "    T'_{prior}&=[z'_{prior},z'^2_{prior}]\\\\\n",
    "    T_{posterior}&=[z_{posterior},z^2_{posterior}]\\\\\n",
    "    T'_{posterior}&=[z'_{posterior},z'^2_{posterior}]\\\\\n",
    "    \\lambda&=[\\lambda_1,\\lambda_2]\\\\\n",
    "    \\lambda'&=[\\lambda'_1,\\lambda'_2]\\\\\n",
    "    T_{prior}^2&=(z^2_{prior}+z'^2_{prior})\\\\\n",
    "    T_{posterior}^2&=(z^2_{posterior}+z'^2_{posterior})\n",
    "    \\end{aligned}\n",
    "</span>\n",
    "We also define,\n",
    "<span class=\"math display\">\n",
    "    \\begin{aligned}\n",
    "    \\mathrm{log}p_{prior}&=-T_{prior}^2+T_{posterior}*G*T'_{posterior}\\\\\n",
    "    \\mathrm{log}p_{posterior}&=-T_{posterior}^2+T_{posterior}*G*T'_{posterior}+\\lambda*T_{posterior}+\\lambda'*T'_{posterior}\\\\\n",
    "    \\end{aligned}\n",
    "</span>\n",
    "The three terms of the partition function are given by:\n",
    "<span class=\"math display\">\n",
    "    \\begin{aligned}\n",
    "    part_0&=\\sum \\mathrm{log}p_{posterior}-\\mathrm{log}p_{prior}=\\langle \\lambda,T_{posterior}\\rangle +\\langle \\lambda',T'_{posterior}\\rangle \\\\\n",
    "    part_1&=- \\langle \\lambda,sgd(T_{posterior})\\rangle -\\langle  \\lambda',sgd(T'_{posterior})\\rangle \\\\\n",
    "    part_2&=(\\mathbb{E}_p-\\mathbb{E}_q)\\langle \\mathbf{sg}[T\\otimes T'],G\\rangle=\\mathbb{E}_p\\langle \\mathbf{sg}[T_{prior}\\otimes T'_{prior}],G\\rangle-\\mathbb{E}_q\\langle \\mathbf{sg}[T_{posterior}\\otimes T'_{posterior}],G\\rangle\n",
    "    \\end{aligned}\n",
    "</span>"
   ]
  },
  {
   "cell_type": "code",
   "execution_count": 3,
   "id": "compatible-custom",
   "metadata": {},
   "outputs": [
    {
     "ename": "SyntaxError",
     "evalue": "invalid syntax (<ipython-input-3-0ea2975cb358>, line 37)",
     "output_type": "error",
     "traceback": [
      "\u001b[0;36m  File \u001b[0;32m\"<ipython-input-3-0ea2975cb358>\"\u001b[0;36m, line \u001b[0;32m37\u001b[0m\n\u001b[0;31m    print(torch.sum(torch.mul(Tprior_kron.detach(),G)-torch.mul(Tpost_kron.detach(),G)))\u001b[0m\n\u001b[0m    ^\u001b[0m\n\u001b[0;31mSyntaxError\u001b[0m\u001b[0;31m:\u001b[0m invalid syntax\n"
     ]
    }
   ],
   "source": [
    "latent_dim1 = 1 #32\n",
    "latent_dim2 = 1 #16\n",
    "batch_size  = 1\n",
    "device = torch.device('cuda' if torch.cuda.is_available() else 'cpu')\n",
    "class kl_divergence():\n",
    "    def __init__(self):\n",
    "        pass\n",
    "\n",
    "    def calc(self,G,z1,z2,z1_prior,z2_prior,mu1,log_var1,mu2,log_var2):\n",
    "        ## Creating Sufficient statistics\n",
    "        T1_prior = torch.cat((z1_prior,torch.square(z1_prior)),1)     # sufficient statistics for prior of set1\n",
    "        T2_prior = torch.cat((z2_prior,torch.square(z2_prior)),1)     # sufficient statistics for prior of set2\n",
    "        T1_post = torch.cat((z1,torch.square(z1)),1)                  # sufficient statistics for posterior of set1\n",
    "        print('4')\n",
    "        T2_post = torch.cat((z2,torch.square(z2)),1)                  # sufficient statistics for posterior of set2\n",
    "        print('5')\n",
    "        lambda1 = torch.cat((mu1,log_var1),1)                         # Output of encoder for set1\n",
    "        print('6')\n",
    "        lambda2 = torch.cat((mu2,log_var2),1)                         # Output of encoder for set2 \n",
    "        print('7')\n",
    "        T_prior_sqrd = torch.sum(torch.square(z1_prior),1) +torch.sum(torch.square(z2_prior),1) #stores z^2+z'^2\n",
    "        print('8')\n",
    "        T_post_sqrd  = torch.sum(torch.square(z1),1) +torch.sum(torch.square(z2),1)\n",
    "        print('9')\n",
    "        part_fun0 = torch.sum(torch.mul(lambda1,T1_post))+torch.sum(torch.mul(lambda2,T2_post))\n",
    "        print('10')\n",
    "        part_fun1 = -torch.sum(torch.mul(lambda1,T1_post.detach()))-torch.sum(torch.mul(lambda2,T2_post.detach())) #-lambda*Tq-lambda'Tq'\n",
    "        print('11')\n",
    "        T1_prior =T1_prior.unsqueeze(2)       #[128, 2]->[128, 64,1]\n",
    "        T2_prior =T2_prior.unsqueeze(1)       #[128, 64]->[128, 1,32]\n",
    "        T1_post  =T1_post.unsqueeze(2)        #[128, 2]->[128, 64,1]\n",
    "        T2_post  =T2_post.unsqueeze(1)        #[128, 64]->[128, 1,32]\n",
    "        Tprior_kron=torch.zeros(batch_size,2*latent_dim1,2*latent_dim2).to(device)   #[128, 64,32]\n",
    "        Tpost_kron=torch.zeros(batch_size,2*latent_dim1,2*latent_dim2).to(device)    #[128, 64,32]  \n",
    "        print('T1_prior',T1_prior)\n",
    "        print('T2_prior',T2_prior)\n",
    "        print('T1_post',T1_post)\n",
    "        print('T2_post',T2_post)        \n",
    "        for i in range(batch_size-1):\n",
    "            Tprior_kron[i,:]=torch.kron(T1_prior[i,:], T2_prior[i,:])\n",
    "            Tpost_kron[i,:]=torch.kron(T1_post[i,:], T2_post[i,:])      \n",
    "            print('Tprior_kron',Tprior_kron)  \n",
    "            print('Tpost_kron',Tpost_kron)  \n",
    "            \n",
    "\n",
    "        part_fun2 = torch.sum(torch.mul(Tprior_kron.detach(),G)-torch.mul(Tpost_kron.detach(),G))\n",
    "        return part_fun0,part_fun1,part_fun2"
   ]
  },
  {
   "cell_type": "code",
   "execution_count": null,
   "id": "overall-screen",
   "metadata": {},
   "outputs": [],
   "source": []
  },
  {
   "cell_type": "code",
   "execution_count": null,
   "id": "signed-victorian",
   "metadata": {},
   "outputs": [],
   "source": []
  }
 ],
 "metadata": {
  "kernelspec": {
   "display_name": "achint-env2",
   "language": "python",
   "name": "achint-env2"
  },
  "language_info": {
   "codemirror_mode": {
    "name": "ipython",
    "version": 3
   },
   "file_extension": ".py",
   "mimetype": "text/x-python",
   "name": "python",
   "nbconvert_exporter": "python",
   "pygments_lexer": "ipython3",
   "version": "3.8.10"
  }
 },
 "nbformat": 4,
 "nbformat_minor": 5
}
